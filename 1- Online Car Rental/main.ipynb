{
 "cells": [
  {
   "cell_type": "code",
   "execution_count": null,
   "metadata": {},
   "outputs": [],
   "source": [
    "from module import CarRental, Customer\n",
    "\n",
    "\n",
    "def main():\n",
    "    CUSTOMER_NAME = \"João Felipe P\"\n",
    "    INVENTORY = {\n",
    "        \"Toyota Corolla\": 5,\n",
    "        \"Ford F-150\": 10,\n",
    "        \"Volkswagen Golf\": 15,\n",
    "        \"Honda Civic\": 20,\n",
    "    }\n",
    "\n",
    "    rental = CarRental(INVENTORY)\n",
    "    customer = Customer(CUSTOMER_NAME)\n",
    "\n",
    "    while True:\n",
    "        print(\"\\n1. Display Available Cars\")\n",
    "        print(\"2. Rent a Car\")\n",
    "        print(\"3. Return a Car\")\n",
    "        print(\"4. Exit\")\n",
    "\n",
    "        choice = input(\"Enter your choice (1-4): \")\n",
    "\n",
    "        if choice == \"1\":\n",
    "            rental.display_available_cars()\n",
    "        elif choice == \"2\":\n",
    "            car = input(\"Enter the car you want to rent: \")\n",
    "            num_cars = int(input(\"Enter the number of cars you want to rent: \"))\n",
    "            rental_type = input(\"Enter the rental type (hourly/daily/weekly): \")\n",
    "            message = customer.rent_car(rental, car, num_cars, rental_type)\n",
    "            print(message)\n",
    "        elif choice == \"3\":\n",
    "            car = input(\"Enter the car you want to return: \")\n",
    "            message = customer.return_car(rental, car)\n",
    "            print(message)\n",
    "        elif choice == \"4\":\n",
    "            print(\"Exiting the program... See you soon!\")\n",
    "            break\n",
    "        else:\n",
    "            print(\"Invalid choice. Please enter a number between 1 and 4.\")\n",
    "\n",
    "\n",
    "main()"
   ]
  }
 ],
 "metadata": {
  "kernelspec": {
   "display_name": "Python 3 (ipykernel)",
   "language": "python",
   "name": "python3"
  },
  "language_info": {
   "codemirror_mode": {
    "name": "ipython",
    "version": 3
   },
   "file_extension": ".py",
   "mimetype": "text/x-python",
   "name": "python",
   "nbconvert_exporter": "python",
   "pygments_lexer": "ipython3",
   "version": "3.9.6"
  }
 },
 "nbformat": 4,
 "nbformat_minor": 4
}
