{
 "cells": [
  {
   "cell_type": "markdown",
   "metadata": {},
   "source": [
    "# **AAL Australia: 4Q Sales Report**\n"
   ]
  },
  {
   "cell_type": "markdown",
   "metadata": {},
   "source": [
    "## **1. Data Wrangling**\n"
   ]
  },
  {
   "cell_type": "markdown",
   "metadata": {},
   "source": [
    "### **1.1 Data Inspection**\n",
    "\n",
    "_It's the process of getting familiar with the data in order to identify quality and structure issues._\n"
   ]
  },
  {
   "cell_type": "code",
   "execution_count": null,
   "metadata": {},
   "outputs": [],
   "source": [
    "import pandas as pd\n",
    "\n",
    "df = pd.read_csv(\"./Data/AAL_Q4-2020_Sales.csv\")\n",
    "\n",
    "print(\"First 5 rows of the DataFrame:\")\n",
    "print(df.head(5))\n",
    "\n",
    "print(f\"\\nLast 5 rows of the DataFrame:\")\n",
    "print(df.tail(5))\n",
    "\n",
    "print(\"\\nDataFrame Summary\")\n",
    "print(df.info())\n",
    "\n",
    "has_null = df.isnull().values.any()\n",
    "print(\"\\nDoes the DataFrame have any null value?:\", has_null)\n",
    "\n",
    "number_of_duplicates = df.duplicated().sum()\n",
    "print(f\"\\nNumber of duplicates: {number_of_duplicates}\")\n",
    "\n",
    "print(\"\\nList of numerical columns:\")\n",
    "numerical_columns = df.select_dtypes(include=[\"number\"]).columns\n",
    "print(numerical_columns)\n",
    "\n",
    "print(\"\\nList of categorical columns:\")\n",
    "categorical_columns = df.select_dtypes(exclude=[\"number\"]).columns\n",
    "print(categorical_columns)"
   ]
  },
  {
   "cell_type": "markdown",
   "metadata": {},
   "source": [
    "### **1.2 Data Cleaning**\n",
    "\n",
    "_It's the process of handling missing data, removing duplicates, converting data types, trimming whitespace, correcting inconsistencies, standardizing formats, dealing with outliers, and validating accuracy._\n"
   ]
  },
  {
   "cell_type": "code",
   "execution_count": null,
   "metadata": {},
   "outputs": [],
   "source": [
    "# Handling duplicates:\n",
    "if number_of_duplicates > 0:\n",
    "    df = df.drop_duplicates(keep=\"first\")\n",
    "\n",
    "# Handling missing data for numerical columns:\n",
    "for column in numerical_columns:\n",
    "    if df[column].isnull().any():\n",
    "        column_median = df[column].median()\n",
    "        df[column] = df[column].fillna(column_median)\n",
    "\n",
    "# Handling missing data for categorical columns:\n",
    "for column in categorical_columns:\n",
    "    if df[column].isnull().any():\n",
    "        df[column] = df[column].fillna(\"Unknown\")\n",
    "\n",
    "\n",
    "# Identify and correct misspelled words and unnecessary whitespace:\n",
    "for column in categorical_columns:\n",
    "    if column != \"Date\":\n",
    "        df[column] = df[column].str.strip()\n",
    "        unique_values = df[column].unique()\n",
    "        print(f\"{column} unique values: {unique_values}\")\n",
    "\n",
    "# Handling Outliers:\n",
    "SALES_COLUMN = \"Sales\"\n",
    "\n",
    "q1 = df[SALES_COLUMN].quantile(0.25)\n",
    "q3 = df[SALES_COLUMN].quantile(0.75)\n",
    "iqr = q3 - q1\n",
    "\n",
    "lower_bound = q1 - 1.5 * iqr\n",
    "upper_bound = q3 + 1.5 * iqr\n",
    "\n",
    "# Tagging all the 'sales outliers' with True or False\n",
    "condition = (df[SALES_COLUMN] >= lower_bound) & (df[SALES_COLUMN] <= upper_bound)\n",
    "df[\"Sales_Outlier\"] = ~condition"
   ]
  },
  {
   "cell_type": "markdown",
   "metadata": {},
   "source": [
    "### **1.3 Data Transformation**\n",
    "\n",
    "_It involves converting data from its original form into a format that is more suitable for analysis._\n"
   ]
  },
  {
   "cell_type": "code",
   "execution_count": null,
   "metadata": {},
   "outputs": [],
   "source": [
    "from pandas import DataFrame\n",
    "\n",
    "# Transforming Date column to YYYY-MM-DD:\n",
    "DATE_COLUMN = \"Date\"\n",
    "df[DATE_COLUMN] = pd.to_datetime(df[DATE_COLUMN], format=\"%d-%b-%Y\")\n",
    "\n",
    "\n",
    "# Encoding categorical data into numerical:\n",
    "def encode(df: DataFrame, original_column: str, new_column: str):\n",
    "    df[new_column], _unique = pd.factorize(df[original_column])\n",
    "\n",
    "\n",
    "ORIGINAL_COLUMNS = [\"Time\", \"State\", \"Group\"]\n",
    "NEW_COLUMNS = [\"Numerical_Time\", \"Numerical_State\", \"Numerical_Group\"]\n",
    "\n",
    "for original_column, new_column in zip(ORIGINAL_COLUMNS, NEW_COLUMNS):\n",
    "    encode(df, original_column, new_column)\n",
    "\n",
    "# Binning Sales column:"
   ]
  }
 ],
 "metadata": {
  "kernelspec": {
   "display_name": "Python 3",
   "language": "python",
   "name": "python3"
  },
  "language_info": {
   "codemirror_mode": {
    "name": "ipython",
    "version": 3
   },
   "file_extension": ".py",
   "mimetype": "text/x-python",
   "name": "python",
   "nbconvert_exporter": "python",
   "pygments_lexer": "ipython3",
   "version": "3.9.6"
  }
 },
 "nbformat": 4,
 "nbformat_minor": 2
}
